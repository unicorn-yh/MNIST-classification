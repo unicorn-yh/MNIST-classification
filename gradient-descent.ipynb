{
 "cells": [
  {
   "cell_type": "code",
   "execution_count": 56,
   "metadata": {},
   "outputs": [],
   "source": [
    "BATCH_SIZE = 64\n",
    "EPOCH = 20\n",
    "LEARNING_RATE = 0.01\n",
    "MOMENTUM = 0.9\n",
    "EPSILON = 1e-8\n",
    "ETA = 0.1\n",
    "NUM_CLASS = 10"
   ]
  },
  {
   "cell_type": "code",
   "execution_count": 14,
   "metadata": {},
   "outputs": [],
   "source": [
    "import numpy as np\n",
    " \n",
    "def gradient_descent(x, y, alpha, num_iters):\n",
    "    m = x.shape[0]\n",
    "    w = np.zeros(x.shape[1])\n",
    "    b = 0\n",
    "    for i in range(num_iters):\n",
    "        y_pred = np.dot(x, w) + b                 # predict Y\n",
    "        dw = (1/m) * np.dot(x.T, (y_pred - y))    \n",
    "        db = (1/m) * np.sum(y_pred - y)\n",
    "        w = w - alpha * dw\n",
    "        b = b - alpha * db\n",
    "    return w, b"
   ]
  },
  {
   "cell_type": "code",
   "execution_count": 16,
   "metadata": {},
   "outputs": [],
   "source": [
    "import torchvision.transforms as transforms\n",
    "from torchvision.datasets import MNIST\n",
    "transform = transforms.Compose([transforms.ToTensor(),   #改变通道顺序\n",
    "                                transforms.Normalize((0.5,),(0.5,))])  #归一化\n",
    "train_set = MNIST(\"./data\", train=True, download=True, transform=transform)\n",
    "test_set = MNIST(\"./data\", train=False, download=True, transform=transform)"
   ]
  },
  {
   "cell_type": "code",
   "execution_count": 17,
   "metadata": {},
   "outputs": [
    {
     "data": {
      "text/plain": [
       "Dataset MNIST\n",
       "    Number of datapoints: 60000\n",
       "    Root location: ./data\n",
       "    Split: Train\n",
       "    StandardTransform\n",
       "Transform: Compose(\n",
       "               ToTensor()\n",
       "               Normalize(mean=(0.5,), std=(0.5,))\n",
       "           )"
      ]
     },
     "execution_count": 17,
     "metadata": {},
     "output_type": "execute_result"
    }
   ],
   "source": [
    "train_set"
   ]
  },
  {
   "cell_type": "code",
   "execution_count": 18,
   "metadata": {},
   "outputs": [],
   "source": [
    "from torch.utils.data import DataLoader\n",
    "train_loader = DataLoader(train_set, batch_size=BATCH_SIZE, shuffle=True)\n",
    "test_loader = DataLoader(test_set, batch_size=BATCH_SIZE, shuffle=True)"
   ]
  },
  {
   "cell_type": "code",
   "execution_count": 54,
   "metadata": {},
   "outputs": [
    {
     "name": "stdout",
     "output_type": "stream",
     "text": [
      "Bias:  0.20118983280379743\n",
      "Weights:  [0.05895967 0.29255293 0.57385506 0.16094504 0.43035654 0.11492838\n",
      " 0.2029012  0.49665624 0.84947032 0.26075237 0.135276   0.48426359\n",
      " 0.91362678 0.26711967 0.24963784 0.38088299 0.47669105 0.18426748\n",
      " 0.82477622 0.10246857 0.37661648 0.68328581 0.46480376 0.15995559\n",
      " 0.51866078 0.93232954 0.16023007 0.0472164 ]\n"
     ]
    }
   ],
   "source": [
    "import random\n",
    "def initialize(dim):\n",
    "    b=random.random()\n",
    "    theta=np.random.rand(dim)\n",
    "    return b,theta\n",
    "\n",
    "\n",
    "b,theta=initialize(28)\n",
    "print(\"Bias: \",b)\n",
    "print(\"Weights: \",theta)\n",
    "\n",
    "def predict_Y(b,theta,X):\n",
    "    print(\"theta\",theta.shape)\n",
    "    print(\"X\",X.shape)\n",
    "    return b + np.dot(X,theta)"
   ]
  },
  {
   "cell_type": "code",
   "execution_count": 57,
   "metadata": {},
   "outputs": [
    {
     "name": "stdout",
     "output_type": "stream",
     "text": [
      "Network(\n",
      "  (flatten): Flatten(start_dim=1, end_dim=-1)\n",
      "  (dense_relu_sequential): Sequential(\n",
      "    (0): Linear(in_features=784, out_features=256, bias=True)\n",
      "    (1): ReLU()\n",
      "    (2): Linear(in_features=256, out_features=128, bias=True)\n",
      "    (3): ReLU()\n",
      "    (4): Linear(in_features=128, out_features=10, bias=True)\n",
      "  )\n",
      ")\n"
     ]
    }
   ],
   "source": [
    "from torch import nn\n",
    "# Define model\n",
    "class Network(nn.Module):\n",
    "    def __init__(self):\n",
    "        super().__init__()\n",
    "        self.flatten = nn.Flatten()\n",
    "        self.dense_relu_sequential = nn.Sequential(\n",
    "            nn.Linear(28*28, 256),\n",
    "            nn.ReLU(),\n",
    "            nn.Linear(256, 128),\n",
    "            nn.ReLU(),\n",
    "            nn.Linear(128, NUM_CLASS)\n",
    "        )\n",
    "\n",
    "    def construct(self, x):\n",
    "        x = self.flatten(x)\n",
    "        logits = self.dense_relu_sequential(x)\n",
    "        return logits\n",
    "\n",
    "net = Network()\n",
    "print(net)"
   ]
  },
  {
   "cell_type": "code",
   "execution_count": 25,
   "metadata": {},
   "outputs": [],
   "source": [
    "import math\n",
    "def get_cost(Y,Y_hat):\n",
    "    Y_resd=Y-Y_hat\n",
    "    return np.sum(np.dot(Y_resd.T,Y_resd))/len(Y-Y_resd)"
   ]
  },
  {
   "cell_type": "code",
   "execution_count": 59,
   "metadata": {},
   "outputs": [
    {
     "name": "stdout",
     "output_type": "stream",
     "text": [
      "torch.Size([1, 28, 28])\n",
      "theta (28,)\n",
      "X torch.Size([64, 1, 28, 28])\n",
      "Y torch.Size([64])\n",
      "Y_hat (64, 1, 28)\n",
      "0.0\n",
      "[[[-10.60229656  -9.79740392  -9.08970741  -9.0248345   -9.09520022\n",
      "    -9.32583429  -9.26062114  -9.26062114  -9.40115255  -9.67082092\n",
      "    -9.32418489  -7.90480524  -3.82563192  -2.42421624  -2.4753033\n",
      "    -4.71723866  -3.4715303   -0.59009968   0.85722539  -1.82415213\n",
      "    -3.75070939 -10.60229656 -10.60229656 -10.60229656 -10.60229656\n",
      "   -10.60229656 -10.60229656 -10.60229656]]\n",
      "\n",
      " [[-10.60229656 -10.60229656 -10.60229656 -10.60229656 -10.60229656\n",
      "    -9.78656599  -8.78636182  -6.74750873  -7.14211737  -7.30431297\n",
      "    -6.87442627  -6.67544654  -6.92862008  -7.34929588  -5.36153544\n",
      "    -1.27551451  -2.75408287  -8.6250848   -9.23307531  -9.48441779\n",
      "    -9.57560831  -9.59980732  -8.92395023  -7.30850946  -7.92437633\n",
      "   -10.60229656 -10.60229656 -10.60229656]]\n",
      "\n",
      " [[-10.60229656 -10.60229656 -10.60229656 -10.60229656 -10.60229656\n",
      "    -9.41687848  -8.00316101  -7.88495806  -8.35548981  -8.84186795\n",
      "    -8.50319187  -8.55914818  -8.47022     -8.53466123  -8.99632777\n",
      "    -8.51377133  -8.24752985  -7.60732706  -7.69764122  -7.61781005\n",
      "    -7.48189377  -7.58254834  -7.92079366  -8.00855853  -8.31870215\n",
      "   -10.60229656 -10.60229656 -10.60229656]]\n",
      "\n",
      " [[-10.60229656 -10.60229656 -10.60229656 -10.60229656 -10.60229656\n",
      "   -10.60229656  -6.34356749  -4.70446745  -3.89460164  -7.38242766\n",
      "    -6.29730819  -5.35326208  -5.28415897  -3.82132822  -2.5672603\n",
      "    -4.31006081  -7.50579146  -8.2969075   -7.99594817  -7.7630702\n",
      "    -7.80269361  -8.14658519  -8.14658519  -8.14658519  -7.9778679\n",
      "    -8.3236282  -10.60229656 -10.60229656]]\n",
      "\n",
      " [[-10.60229656 -10.60229656 -10.60229656  -6.35060055  -6.34702878\n",
      "    -7.24971757  -8.28332165  -8.74915345  -9.56242236  -9.07394918\n",
      "    -9.16942944  -8.71211951  -8.35660975  -8.69519659  -9.02370479\n",
      "    -9.1643741   -5.23305971  -2.38555967  -2.69847778  -4.29698749\n",
      "    -5.36277961  -5.08199026  -8.11979652 -10.60229656 -10.60229656\n",
      "   -10.60229656 -10.60229656 -10.60229656]]\n",
      "\n",
      " [[-10.60229656 -10.60229656 -10.60229656 -10.60229656 -10.60229656\n",
      "   -10.60229656 -10.39218834  -6.09795824  -2.20621848  -1.54992251\n",
      "    -1.58090345  -3.36341412  -5.21568823  -7.37170484  -8.05158235\n",
      "    -7.98820969  -7.0368243   -6.40951239  -4.41466705   1.01634756\n",
      "    -2.33938825 -10.21880345 -10.60229656 -10.60229656 -10.60229656\n",
      "   -10.60229656 -10.60229656 -10.60229656]]\n",
      "\n",
      " [[-10.60229656 -10.60229656 -10.60229656 -10.60229656 -10.60229656\n",
      "   -10.60229656  -8.14348769  -5.04669433  -3.7216968   -5.28832168\n",
      "    -6.81327329  -7.72303393  -6.97631721  -5.66155958  -3.14766344\n",
      "    -3.31194541  -7.34488586  -8.23685619  -8.24401228  -8.25262989\n",
      "    -7.79777314  -7.15233973  -7.05498049  -7.30622027  -7.66540081\n",
      "    -8.6764438  -10.60229656 -10.60229656]]\n",
      "\n",
      " [[-10.60229656 -10.60229656 -10.60229656 -10.60229656  -9.52090017\n",
      "    -8.75772308  -8.55017157  -8.55017157  -8.58263582  -8.78828335\n",
      "    -8.78828335  -8.50754581  -8.50126065  -8.50126065  -8.30667837\n",
      "    -8.51238554  -8.28299768  -7.42513379  -7.51801772  -8.07354817\n",
      "    -7.81851588  -7.52145389  -7.44888497  -7.73374589 -10.60229656\n",
      "   -10.60229656 -10.60229656 -10.60229656]]\n",
      "\n",
      " [[-10.60229656 -10.60229656 -10.60229656  -6.37523263  -3.40901579\n",
      "    -5.25376796  -8.76932935  -8.84493821  -8.46134487  -8.51059918\n",
      "    -8.36919747  -6.95053534  -4.62535385  -3.14543964  -4.97587396\n",
      "    -8.86797726  -9.04265101  -8.40504229  -6.11751033  -3.5117611\n",
      "     0.30500117  -1.08938901  -4.59381345 -10.60229656 -10.60229656\n",
      "   -10.60229656 -10.60229656 -10.60229656]]\n",
      "\n",
      " [[-10.60229656 -10.60229656  -8.88375464  -8.46224537  -7.78725017\n",
      "    -7.26346677  -6.45180298  -7.10784214  -6.81124003  -6.28159847\n",
      "    -6.4140282   -7.34184443  -6.34860563  -4.54031209  -2.66088912\n",
      "    -2.16022297  -1.19628852  -0.81512411   0.21436664   0.05056736\n",
      "    -2.0886407   -6.3629862  -10.60229656 -10.60229656 -10.60229656\n",
      "   -10.60229656 -10.60229656 -10.60229656]]]\n"
     ]
    }
   ],
   "source": [
    "cost = 0.0\n",
    "for index, (X,Y) in enumerate(train_loader):\n",
    "    print(X[0][0].  shape)\n",
    "    Y_hat = predict_Y(b,theta,X)\n",
    "    print(\"Y\",Y.shape)\n",
    "    print(\"Y_hat\",Y_hat.shape)\n",
    "    #cost = get_cost(Y,Y_hat)\n",
    "    break\n",
    "print(cost)\n",
    "print(Y_hat[:10])"
   ]
  },
  {
   "cell_type": "code",
   "execution_count": null,
   "metadata": {},
   "outputs": [],
   "source": [
    "\n",
    "\n"
   ]
  }
 ],
 "metadata": {
  "kernelspec": {
   "display_name": "Python 3",
   "language": "python",
   "name": "python3"
  },
  "language_info": {
   "codemirror_mode": {
    "name": "ipython",
    "version": 3
   },
   "file_extension": ".py",
   "mimetype": "text/x-python",
   "name": "python",
   "nbconvert_exporter": "python",
   "pygments_lexer": "ipython3",
   "version": "3.7.7"
  },
  "orig_nbformat": 4
 },
 "nbformat": 4,
 "nbformat_minor": 2
}
